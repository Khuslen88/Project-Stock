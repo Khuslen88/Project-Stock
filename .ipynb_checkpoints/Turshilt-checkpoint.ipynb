{
 "cells": [
  {
   "cell_type": "code",
   "execution_count": 2,
   "id": "85cfab9f-140c-4ba6-8eae-f2e0fc2029e7",
   "metadata": {},
   "outputs": [],
   "source": [
    "import streamlit as st\n",
    "import pandas as pd\n",
    "import yfinance as yf\n",
    "import datetime\n",
    "from datetime import date\n",
    "from sklearn.preprocessing import StandardScaler\n",
    "from sklearn.model_selection import train_test_split\n",
    "from sklearn.linear_model import LinearRegression\n",
    "from sklearn.neighbors import KNeighborsRegressor\n",
    "from xgboost import XGBRegressor\n",
    "from sklearn.ensemble import RandomForestRegressor\n",
    "from sklearn.ensemble import ExtraTreesRegressor\n",
    "from sklearn.metrics import r2_score, mean_absolute_error"
   ]
  },
  {
   "cell_type": "code",
   "execution_count": 1,
   "id": "4c7067f3-9ef1-4f74-8fb6-a5dc22f47b2a",
   "metadata": {},
   "outputs": [
    {
     "name": "stdout",
     "output_type": "stream",
     "text": [
      "Requirement already satisfied: yfinance in /Users/huslen/Library/jupyterlab-desktop/jlab_server/lib/python3.12/site-packages (0.2.45)\n",
      "Requirement already satisfied: pandas>=1.3.0 in /Users/huslen/Library/jupyterlab-desktop/jlab_server/lib/python3.12/site-packages (from yfinance) (2.2.2)\n",
      "Requirement already satisfied: numpy>=1.16.5 in /Users/huslen/Library/jupyterlab-desktop/jlab_server/lib/python3.12/site-packages (from yfinance) (2.1.0)\n",
      "Requirement already satisfied: requests>=2.31 in /Users/huslen/Library/jupyterlab-desktop/jlab_server/lib/python3.12/site-packages (from yfinance) (2.32.3)\n",
      "Requirement already satisfied: multitasking>=0.0.7 in /Users/huslen/Library/jupyterlab-desktop/jlab_server/lib/python3.12/site-packages (from yfinance) (0.0.11)\n",
      "Requirement already satisfied: lxml>=4.9.1 in /Users/huslen/Library/jupyterlab-desktop/jlab_server/lib/python3.12/site-packages (from yfinance) (5.3.0)\n",
      "Requirement already satisfied: platformdirs>=2.0.0 in /Users/huslen/Library/jupyterlab-desktop/jlab_server/lib/python3.12/site-packages (from yfinance) (4.2.2)\n",
      "Requirement already satisfied: pytz>=2022.5 in /Users/huslen/Library/jupyterlab-desktop/jlab_server/lib/python3.12/site-packages (from yfinance) (2024.1)\n",
      "Requirement already satisfied: frozendict>=2.3.4 in /Users/huslen/Library/jupyterlab-desktop/jlab_server/lib/python3.12/site-packages (from yfinance) (2.4.4)\n",
      "Requirement already satisfied: peewee>=3.16.2 in /Users/huslen/Library/jupyterlab-desktop/jlab_server/lib/python3.12/site-packages (from yfinance) (3.17.7)\n",
      "Requirement already satisfied: beautifulsoup4>=4.11.1 in /Users/huslen/Library/jupyterlab-desktop/jlab_server/lib/python3.12/site-packages (from yfinance) (4.12.3)\n",
      "Requirement already satisfied: html5lib>=1.1 in /Users/huslen/Library/jupyterlab-desktop/jlab_server/lib/python3.12/site-packages (from yfinance) (1.1)\n",
      "Requirement already satisfied: soupsieve>1.2 in /Users/huslen/Library/jupyterlab-desktop/jlab_server/lib/python3.12/site-packages (from beautifulsoup4>=4.11.1->yfinance) (2.5)\n",
      "Requirement already satisfied: six>=1.9 in /Users/huslen/Library/jupyterlab-desktop/jlab_server/lib/python3.12/site-packages (from html5lib>=1.1->yfinance) (1.16.0)\n",
      "Requirement already satisfied: webencodings in /Users/huslen/Library/jupyterlab-desktop/jlab_server/lib/python3.12/site-packages (from html5lib>=1.1->yfinance) (0.5.1)\n",
      "Requirement already satisfied: python-dateutil>=2.8.2 in /Users/huslen/Library/jupyterlab-desktop/jlab_server/lib/python3.12/site-packages (from pandas>=1.3.0->yfinance) (2.9.0)\n",
      "Requirement already satisfied: tzdata>=2022.7 in /Users/huslen/Library/jupyterlab-desktop/jlab_server/lib/python3.12/site-packages (from pandas>=1.3.0->yfinance) (2024.1)\n",
      "Requirement already satisfied: charset-normalizer<4,>=2 in /Users/huslen/Library/jupyterlab-desktop/jlab_server/lib/python3.12/site-packages (from requests>=2.31->yfinance) (3.3.2)\n",
      "Requirement already satisfied: idna<4,>=2.5 in /Users/huslen/Library/jupyterlab-desktop/jlab_server/lib/python3.12/site-packages (from requests>=2.31->yfinance) (3.8)\n",
      "Requirement already satisfied: urllib3<3,>=1.21.1 in /Users/huslen/Library/jupyterlab-desktop/jlab_server/lib/python3.12/site-packages (from requests>=2.31->yfinance) (2.2.2)\n",
      "Requirement already satisfied: certifi>=2017.4.17 in /Users/huslen/Library/jupyterlab-desktop/jlab_server/lib/python3.12/site-packages (from requests>=2.31->yfinance) (2024.7.4)\n"
     ]
    }
   ],
   "source": [
    "!pip install yfinance"
   ]
  },
  {
   "cell_type": "code",
   "execution_count": 1,
   "id": "529f832d-8bd1-4539-9d64-b02d9c1be188",
   "metadata": {},
   "outputs": [
    {
     "name": "stdout",
     "output_type": "stream",
     "text": [
      "Requirement already satisfied: dash in /Users/huslen/Library/jupyterlab-desktop/jlab_server/lib/python3.12/site-packages (2.18.2)\n",
      "Requirement already satisfied: Flask<3.1,>=1.0.4 in /Users/huslen/Library/jupyterlab-desktop/jlab_server/lib/python3.12/site-packages (from dash) (3.0.3)\n",
      "Requirement already satisfied: Werkzeug<3.1 in /Users/huslen/Library/jupyterlab-desktop/jlab_server/lib/python3.12/site-packages (from dash) (3.0.6)\n",
      "Requirement already satisfied: plotly>=5.0.0 in /Users/huslen/Library/jupyterlab-desktop/jlab_server/lib/python3.12/site-packages (from dash) (5.24.1)\n",
      "Requirement already satisfied: dash-html-components==2.0.0 in /Users/huslen/Library/jupyterlab-desktop/jlab_server/lib/python3.12/site-packages (from dash) (2.0.0)\n",
      "Requirement already satisfied: dash-core-components==2.0.0 in /Users/huslen/Library/jupyterlab-desktop/jlab_server/lib/python3.12/site-packages (from dash) (2.0.0)\n",
      "Requirement already satisfied: dash-table==5.0.0 in /Users/huslen/Library/jupyterlab-desktop/jlab_server/lib/python3.12/site-packages (from dash) (5.0.0)\n",
      "Requirement already satisfied: importlib-metadata in /Users/huslen/Library/jupyterlab-desktop/jlab_server/lib/python3.12/site-packages (from dash) (8.4.0)\n",
      "Requirement already satisfied: typing-extensions>=4.1.1 in /Users/huslen/Library/jupyterlab-desktop/jlab_server/lib/python3.12/site-packages (from dash) (4.12.2)\n",
      "Requirement already satisfied: requests in /Users/huslen/Library/jupyterlab-desktop/jlab_server/lib/python3.12/site-packages (from dash) (2.32.3)\n",
      "Requirement already satisfied: retrying in /Users/huslen/Library/jupyterlab-desktop/jlab_server/lib/python3.12/site-packages (from dash) (1.3.4)\n",
      "Requirement already satisfied: nest-asyncio in /Users/huslen/Library/jupyterlab-desktop/jlab_server/lib/python3.12/site-packages (from dash) (1.6.0)\n",
      "Requirement already satisfied: setuptools in /Users/huslen/Library/jupyterlab-desktop/jlab_server/lib/python3.12/site-packages (from dash) (72.2.0)\n",
      "Requirement already satisfied: Jinja2>=3.1.2 in /Users/huslen/Library/jupyterlab-desktop/jlab_server/lib/python3.12/site-packages (from Flask<3.1,>=1.0.4->dash) (3.1.4)\n",
      "Requirement already satisfied: itsdangerous>=2.1.2 in /Users/huslen/Library/jupyterlab-desktop/jlab_server/lib/python3.12/site-packages (from Flask<3.1,>=1.0.4->dash) (2.2.0)\n",
      "Requirement already satisfied: click>=8.1.3 in /Users/huslen/Library/jupyterlab-desktop/jlab_server/lib/python3.12/site-packages (from Flask<3.1,>=1.0.4->dash) (8.1.7)\n",
      "Requirement already satisfied: blinker>=1.6.2 in /Users/huslen/Library/jupyterlab-desktop/jlab_server/lib/python3.12/site-packages (from Flask<3.1,>=1.0.4->dash) (1.8.2)\n",
      "Requirement already satisfied: tenacity>=6.2.0 in /Users/huslen/Library/jupyterlab-desktop/jlab_server/lib/python3.12/site-packages (from plotly>=5.0.0->dash) (9.0.0)\n",
      "Requirement already satisfied: packaging in /Users/huslen/Library/jupyterlab-desktop/jlab_server/lib/python3.12/site-packages (from plotly>=5.0.0->dash) (24.1)\n",
      "Requirement already satisfied: MarkupSafe>=2.1.1 in /Users/huslen/Library/jupyterlab-desktop/jlab_server/lib/python3.12/site-packages (from Werkzeug<3.1->dash) (2.1.5)\n",
      "Requirement already satisfied: zipp>=0.5 in /Users/huslen/Library/jupyterlab-desktop/jlab_server/lib/python3.12/site-packages (from importlib-metadata->dash) (3.20.1)\n",
      "Requirement already satisfied: charset-normalizer<4,>=2 in /Users/huslen/Library/jupyterlab-desktop/jlab_server/lib/python3.12/site-packages (from requests->dash) (3.3.2)\n",
      "Requirement already satisfied: idna<4,>=2.5 in /Users/huslen/Library/jupyterlab-desktop/jlab_server/lib/python3.12/site-packages (from requests->dash) (3.8)\n",
      "Requirement already satisfied: urllib3<3,>=1.21.1 in /Users/huslen/Library/jupyterlab-desktop/jlab_server/lib/python3.12/site-packages (from requests->dash) (2.2.2)\n",
      "Requirement already satisfied: certifi>=2017.4.17 in /Users/huslen/Library/jupyterlab-desktop/jlab_server/lib/python3.12/site-packages (from requests->dash) (2024.7.4)\n",
      "Requirement already satisfied: six>=1.7.0 in /Users/huslen/Library/jupyterlab-desktop/jlab_server/lib/python3.12/site-packages (from retrying->dash) (1.16.0)\n",
      "Note: you may need to restart the kernel to use updated packages.\n"
     ]
    }
   ],
   "source": [
    "pip install dash"
   ]
  },
  {
   "cell_type": "code",
   "execution_count": null,
   "id": "7b8cf272-a9e7-4b4c-ad2b-25ffe30c5b06",
   "metadata": {},
   "outputs": [],
   "source": []
  }
 ],
 "metadata": {
  "kernelspec": {
   "display_name": "Python 3 (ipykernel)",
   "language": "python",
   "name": "python3"
  },
  "language_info": {
   "codemirror_mode": {
    "name": "ipython",
    "version": 3
   },
   "file_extension": ".py",
   "mimetype": "text/x-python",
   "name": "python",
   "nbconvert_exporter": "python",
   "pygments_lexer": "ipython3",
   "version": "3.12.5"
  }
 },
 "nbformat": 4,
 "nbformat_minor": 5
}
